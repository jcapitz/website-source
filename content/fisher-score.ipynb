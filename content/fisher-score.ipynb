{
 "cells": [
  {
   "cell_type": "markdown",
   "metadata": {},
   "source": [
    "To implement Fisher Scoring we need to find the score vector and the information matrix of the normal distribution's log-likelihood function. We can easily solve this optimization problem using python and some basic calculus."
   ]
  },
  {
   "cell_type": "markdown",
   "metadata": {},
   "source": [
    "Start by loading numpy and pyplot:"
   ]
  },
  {
   "cell_type": "code",
   "execution_count": 1,
   "metadata": {
    "collapsed": true
   },
   "outputs": [],
   "source": [
    "import numpy as np\n",
    "import matplotlib.pyplot as plt\n",
    "%matplotlib inline"
   ]
  },
  {
   "cell_type": "markdown",
   "metadata": {},
   "source": [
    "With Fisher Scoring we can estimate the parameter $\\theta^T = \\left(\\mu,\\sigma\\right)$ by finding the score vector and the information matrix of the normal distribution's log-likelihood function. This is essentially an iterative second order method to find the maximizer $\\theta^*$ (similar to Newton's method)."
   ]
  },
  {
   "cell_type": "markdown",
   "metadata": {},
   "source": [
    "$$U(\\theta)=\n",
    "\\begin{pmatrix}\n",
    "\\dfrac{\\partial \\log \\mathcal{L}}{\\partial \\mu}\\\\\n",
    "\\dfrac{\\partial \\log \\mathcal{L}}{\\partial \\sigma^2} \n",
    "\\end{pmatrix}\n",
    "=\\begin{pmatrix}\n",
    "\\dfrac{\\sum_{i=1}^n x_i - n\\mu}{\\sigma^2} \\\\ \n",
    "\\dfrac{-n}{2\\sigma^2}+\\dfrac{\\sum_{i=1}^n(x_i-\\mu)^2}{2(\\sigma^2)^2} \n",
    "\\end{pmatrix}$$\n",
    "\n",
    "The information matrix, $I(\\theta)$, is given by taking the negative expectation of the Hessian $H(\\theta)$:\n",
    "\n",
    "$$-E\\left(H(\\theta)\\right)=\n",
    "\\begin{pmatrix}\n",
    "\\dfrac{n}{\\sigma^2} & 0 \\\\ \n",
    "0 & \\dfrac{n}{2(\\sigma^2)^2} \n",
    "\\end{pmatrix}$$\n",
    "\n",
    "The MLE estimate can be found iteratively as follows: $$\\hat{\\theta}_{t+1}=\\hat{\\theta}_t+I^{-1}(\\theta_t)U(\\theta_t)$$"
   ]
  },
  {
   "cell_type": "markdown",
   "metadata": {},
   "source": [
    "Generate normally distributed sampled centered at 100 with variance 15:"
   ]
  },
  {
   "cell_type": "code",
   "execution_count": 2,
   "metadata": {
    "collapsed": false
   },
   "outputs": [],
   "source": [
    "n = 10000\n",
    "mu, sigma = 100, 15\n",
    "x = np.random.normal(mu,sigma,n)"
   ]
  },
  {
   "cell_type": "code",
   "execution_count": 3,
   "metadata": {
    "collapsed": false
   },
   "outputs": [
    {
     "data": {
      "image/png": "[encoded data removed]",
      "text/plain": [
       "<matplotlib.figure.Figure at 0x7f18b436f210>"
      ]
     },
     "metadata": {},
     "output_type": "display_data"
    }
   ],
   "source": [
    "# the histogram of the data\n",
    "m, bins, patches = plt.hist(x, 50, normed=1, facecolor='g', alpha=.75)"
   ]
  },
  {
   "cell_type": "markdown",
   "metadata": {},
   "source": [
    "The code below consists of two functions that implement the iterative procedure. The first function simply calculates the score function. The second function is a while loop that calls the first function on each update and stops when $\\| \\hat{\\theta}_{t+1}-\\hat{\\theta}_t\\|$ is less than a chosen tolerance level."
   ]
  },
  {
   "cell_type": "code",
   "execution_count": 4,
   "metadata": {
    "collapsed": true
   },
   "outputs": [],
   "source": [
    "def fisher_scoring(x, theta):\n",
    "    theta = np.array(theta)\n",
    "    mu,sigma = theta\n",
    "    score = np.array([(np.sum(x)-n*mu)/sigma,(-n/(2*sigma))+(np.sum((x-mu)**2)/(2*(sigma**2)))])\n",
    "    fisher_info = np.array([n/sigma,0,0,n/(2*(sigma**2))]).reshape(2,2)\n",
    "    theta_hat = theta + np.dot(np.linalg.inv(fisher_info),score) # theta_0 + inverse of fisher_info * score\n",
    "    return theta_hat"
   ]
  },
  {
   "cell_type": "code",
   "execution_count": 5,
   "metadata": {
    "collapsed": false
   },
   "outputs": [],
   "source": [
    "def fisher_solver(x, theta, max_iter = 1e3, tol = 1e-16):\n",
    "    count = 0\n",
    "    theta_hat = fisher_scoring(x, theta)\n",
    "    while np.linalg.norm(theta-theta_hat)>tol:\n",
    "        theta=theta_hat\n",
    "        theta_hat = fisher_scoring(x, theta)\n",
    "        count += 1\n",
    "        if count >= max_iter:\n",
    "            break\n",
    "    theta_hat = [theta_hat[0],np.sqrt(theta_hat[1])]\n",
    "    if count == max_iter:\n",
    "        print 'Fisher Scoring reached the maximum number of iterations allowed ({}) prior to convergence.'.format(count)\n",
    "    else:\n",
    "        print 'Fisher Scoring converged after {} iterations.'.format(count)\n",
    "    print 'The estimate mean is {:.2f} and the estimate standard deviation {:.2f}.'.format(theta_hat[0],theta_hat[1])\n",
    "    return theta_hat"
   ]
  },
  {
   "cell_type": "code",
   "execution_count": 6,
   "metadata": {
    "collapsed": false
   },
   "outputs": [
    {
     "name": "stdout",
     "output_type": "stream",
     "text": [
      "Fisher Scoring converged after 1 iterations.\n",
      "The estimate mean is 99.78 and the estimate standard deviation 14.97.\n"
     ]
    }
   ],
   "source": [
    "#initial parameter value\n",
    "theta_0 = [0,.25]\n",
    "\n",
    "mu,sigma = fisher_solver(x,theta_0, max_iter = 0)"
   ]
  },
  {
   "cell_type": "markdown",
   "metadata": {},
   "source": [
    "A more economical way to implement Fisher scoring is by recursion. "
   ]
  },
  {
   "cell_type": "code",
   "execution_count": 7,
   "metadata": {
    "collapsed": false
   },
   "outputs": [],
   "source": [
    "def fisher_recursion(x,theta,tol):\n",
    "    theta = np.array(theta)\n",
    "    mu,sigma = theta\n",
    "    score = np.array([(np.sum(x)-n*mu)/sigma,(-n/(2*sigma))+(np.sum((x-mu)**2)/(2*(sigma**2)))])\n",
    "    fisher_info = np.array([n/sigma,0,0,n/(2*(sigma**2))]).reshape(2,2)\n",
    "    theta_hat = theta + np.dot(np.linalg.inv(fisher_info),score) # theta_0 + inverse of fisher_info * score\n",
    "    \n",
    "    if np.linalg.norm(theta-theta_hat)<tol:\n",
    "        theta_hat = [theta_hat[0],np.sqrt(theta_hat[1])]\n",
    "        print 'The estimate mean is {:.2f} and the estimate standard deviation {:.2f}.'.format(theta_hat[0],theta_hat[1])\n",
    "        return theta_hat\n",
    "    else:\n",
    "        theta = theta_hat\n",
    "        theta_hat = fisher_recursion(x,theta,tol)\n",
    "        return theta_hat"
   ]
  },
  {
   "cell_type": "code",
   "execution_count": 8,
   "metadata": {
    "collapsed": false
   },
   "outputs": [
    {
     "name": "stdout",
     "output_type": "stream",
     "text": [
      "The estimate mean is 99.78 and the estimate standard deviation 14.97.\n"
     ]
    }
   ],
   "source": [
    "theta_recursion = fisher_recursion(x,theta_0,1e-6)"
   ]
  }
 ],
 "metadata": {
  "kernelspec": {
   "display_name": "Python 2",
   "language": "python",
   "name": "python2"
  },
  "language_info": {
   "codemirror_mode": {
    "name": "ipython",
    "version": 2
   },
   "file_extension": ".py",
   "mimetype": "text/x-python",
   "name": "python",
   "nbconvert_exporter": "python",
   "pygments_lexer": "ipython2",
   "version": "2.7.11"
  }
 },
 "nbformat": 4,
 "nbformat_minor": 0
}
